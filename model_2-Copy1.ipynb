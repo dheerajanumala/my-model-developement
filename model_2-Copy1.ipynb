{
 "cells": [
  {
   "cell_type": "code",
   "execution_count": null,
   "metadata": {
    "collapsed": true
   },
   "outputs": [],
   "source": [
    "import keras\n",
    "import tensorflow as tf\n",
    "from keras.applications import vgg16\n",
    "from keras.models import *\n",
    "from keras.layers import *\n",
    "import numpy as np\n",
    "import matplotlib.pyplot as plt\n",
    "import os\n",
    "import cv2\n",
    "import pandas as pd\n",
    "import warnings\n",
    "import math"
   ]
  },
  {
   "cell_type": "code",
   "execution_count": null,
   "metadata": {
    "collapsed": true,
    "scrolled": true
   },
   "outputs": [],
   "source": [
    "aux_input = Input(shape=(512, 512, 3))\n",
    "base = vgg16.VGG16(include_top=False, weights='./vgg16_weights.h5', input_tensor=aux_input)\n",
    "cnn = base.output"
   ]
  },
  {
   "cell_type": "code",
   "execution_count": null,
   "metadata": {
    "collapsed": true
   },
   "outputs": [],
   "source": [
    "for layer in base.layers:\n",
    "    layer.trainable = False"
   ]
  },
  {
   "cell_type": "code",
   "execution_count": null,
   "metadata": {
    "collapsed": true
   },
   "outputs": [],
   "source": [
    "def myactivation(x,minimum=0,maximum=512):\n",
    "    x = tf.sigmoid(x)+1\n",
    "    scale = (maximum-minimum)/2\n",
    "    return x*scale+minimum"
   ]
  },
  {
   "cell_type": "code",
   "execution_count": null,
   "metadata": {
    "collapsed": true
   },
   "outputs": [],
   "source": [
    "ffx = Dense(200,activation='relu')(cnn)\n",
    "ffx = Dropout(.5)(ffx)\n",
    "flat = Flatten()(ffx)\n",
    "ffx = Dense(250,activation='relu')(flat)\n",
    "ffx = Dropout(.5)(ffx)\n",
    "ffx = RepeatVector(80)(ffx)\n",
    "lstm = LSTM(100,activation='tanh',return_sequences=True,unroll=True,dropout=.5)(ffx)\n",
    "ffy = Dense(50,activation='relu')(lstm)\n",
    "ffy = Dropout(.5)(ffy)\n",
    "out1 = Dense(80,activation='softmax',name='out1')(ffy)"
   ]
  },
  {
   "cell_type": "code",
   "execution_count": null,
   "metadata": {
    "collapsed": true
   },
   "outputs": [],
   "source": [
    "s0 = Dense(1,activation='relu')(cnn)\n",
    "s0 = Flatten()(s0)\n",
    "out2 = Dense(256,activation='softmax',name='out2')(s0)"
   ]
  },
  {
   "cell_type": "code",
   "execution_count": null,
   "metadata": {
    "collapsed": true,
    "scrolled": true
   },
   "outputs": [],
   "source": [
    "model = Model(inputs=aux_input,outputs=[out1,out2])\n",
    "#model2 = Model(inputs=aux_input,outputs=s0)"
   ]
  },
  {
   "cell_type": "code",
   "execution_count": null,
   "metadata": {
    "collapsed": true,
    "scrolled": false
   },
   "outputs": [],
   "source": [
    "model.summary()"
   ]
  },
  {
   "cell_type": "code",
   "execution_count": null,
   "metadata": {
    "collapsed": true
   },
   "outputs": [],
   "source": [
    "s0_pred = ''\n",
    "def myloss(y_true, y_pred):\n",
    "    global s0_pred\n",
    "    if 40 in y_pred.shape:\n",
    "        return tf.reduce_mean(tf.square((y_pred - y_true)))\n",
    "    else:\n",
    "        print('in myloss else ',y_pred.shape)\n",
    "        s0_pred = y_pred\n",
    "        return tf.reduce_mean(tf.square((y_pred - y_true)))"
   ]
  },
  {
   "cell_type": "code",
   "execution_count": null,
   "metadata": {
    "collapsed": true
   },
   "outputs": [],
   "source": [
    "losses = {'out1':'binary_crossentropy','out2':'binary_crossentropy'}\n",
    "adam = keras.optimizers.Adam(lr=0.01)\n",
    "model.compile(optimizer=adam,loss=losses,metrics=['accuracy'])\n",
    "#model2.compile(optimizer=adam,loss='mse',metrics=['mse'])"
   ]
  },
  {
   "cell_type": "code",
   "execution_count": null,
   "metadata": {
    "collapsed": true
   },
   "outputs": [],
   "source": [
    "imgpath = 'C:\\\\Users\\\\KV Manoj\\\\pathGAN\\\\mit eye tracking dataset\\\\eyetracking data\\\\ALLSTIMULI\\\\'\n",
    "pointspath = 'C:\\\\Users\\\\KV Manoj\\\\pathGAN\\\\mit eye tracking dataset\\\\intcsv\\\\ajs\\\\'\n",
    "vimgpath = 'C:\\\\Users\\\\KV Manoj\\\\pathGAN\\\\mit eye tracking dataset\\\\eyetracking data\\\\ALLSTIMULI2\\\\'\n",
    "vpointspath = 'C:\\\\Users\\\\KV Manoj\\\\pathGAN\\\\mit eye tracking dataset\\\\intcsv2\\\\CNG2\\\\'"
   ]
  },
  {
   "cell_type": "code",
   "execution_count": null,
   "metadata": {
    "collapsed": true
   },
   "outputs": [],
   "source": [
    "def transform(img,i=0):\n",
    "    img = cv2.resize(img,(512,512))\n",
    "    if(i==2):\n",
    "        return img\n",
    "    img = vgg16.preprocess_input(img)\n",
    "    if(i!=0):\n",
    "        img = tf.expand_dims(img,axis=0)\n",
    "    return img"
   ]
  },
  {
   "cell_type": "code",
   "execution_count": null,
   "metadata": {
    "collapsed": true
   },
   "outputs": [],
   "source": [
    "x = 'C:\\\\Users\\\\KV Manoj\\\\pathGAN\\\\mit eye tracking dataset\\\\intcsv\\\\'\n",
    "folders = (os.listdir(x))\n",
    "x+folders[0]+'\\\\'"
   ]
  },
  {
   "cell_type": "code",
   "execution_count": null,
   "metadata": {
    "collapsed": true
   },
   "outputs": [],
   "source": [
    "mod = 0\n",
    "lis = [[0,2],[2,2]]\n",
    "for i in range(2,10):\n",
    "    for j in range(2):\n",
    "        if(i==9 and j==1):\n",
    "            break\n",
    "        x,y = lis[-1]\n",
    "        if(mod%4==0):\n",
    "            l=i\n",
    "            for k in range(y-2,-20,-2):\n",
    "                if(l>0):\n",
    "                    lis.append([x,k])\n",
    "                    l-=1\n",
    "                else:\n",
    "                    mod+=1\n",
    "                    break\n",
    "        elif(mod%4==1):\n",
    "            l=i\n",
    "            for k in range(x-2,-20,-2):\n",
    "                if(l>0):\n",
    "                    lis.append([k,y])\n",
    "                    l-=1\n",
    "                else:\n",
    "                    mod+=1\n",
    "                    break\n",
    "            \n",
    "        elif(mod%4==2):\n",
    "            l=i\n",
    "            for k in range(y+2,20,2):\n",
    "                if(l>0):\n",
    "                    lis.append([x,k])\n",
    "                    l-=1\n",
    "                else:\n",
    "                    mod+=1\n",
    "                    break\n",
    "        elif(mod%4==3):\n",
    "            l=i\n",
    "            for k in range(x+2,20,2):\n",
    "                if(l>0):\n",
    "                    lis.append([k,y])\n",
    "                    l-=1\n",
    "                else:\n",
    "                    mod+=1\n",
    "                    break\n",
    "lis.pop()\n",
    "change = lis"
   ]
  },
  {
   "cell_type": "code",
   "execution_count": null,
   "metadata": {
    "collapsed": true
   },
   "outputs": [],
   "source": [
    "def data_generator(imgpath,pointspath,lm,bs=16):\n",
    "    images = sorted(os.listdir(imgpath)) \n",
    "    i=0\n",
    "    j=len(images)\n",
    "    cd=0\n",
    "    mod = 0\n",
    "    pointspath2=pointspath\n",
    "    while True:\n",
    "        #print('\\n------------------------------------\\n')\n",
    "        imgs = []\n",
    "        points = []\n",
    "        first = []\n",
    "        while len(imgs)<bs:\n",
    "            #print('len img: ',len(imgs))\n",
    "            if((i==0 or i==j) and lm==0):\n",
    "                i=0\n",
    "                if(pointspath == 'C:\\\\Users\\\\KV Manoj\\\\pathGAN\\\\mit eye tracking dataset\\\\intcsv\\\\ajs\\\\'):\n",
    "                    pointspath = 'C:\\\\Users\\\\KV Manoj\\\\pathGAN\\\\mit eye tracking dataset\\\\intcsv\\\\'\n",
    "                pointspath2 = pointspath + folders[mod%15]+'\\\\'\n",
    "                mod+=1\n",
    "                #print('\\nlm=0\\n')\n",
    "                print('\\n',pointspath2)\n",
    "                #print('after pointspath \\n------------------------------------\\n')\n",
    "            elif(i==j):\n",
    "                i=0\n",
    "                #print('\\nlm=1\\n')\n",
    "            if((i)%100==0):\n",
    "                print(i,end=',')\n",
    "            #print('hello')\n",
    "            name = images[i]\n",
    "            img=''\n",
    "            if '.jpeg' in name:\n",
    "                img = plt.imread(imgpath+name)\n",
    "                img = transform(img)\n",
    "            else:\n",
    "                i+=1\n",
    "                continue\n",
    "            front = name.split('.jpeg')[0]\n",
    "            #print('\\nfront: ',front)\n",
    "            csv = front+'.csv'\n",
    "            df = 0\n",
    "            try:\n",
    "                file = pointspath2 + csv\n",
    "                #print('x: ',x)\n",
    "                df = pd.read_csv(file)\n",
    "            except Exception as e:\n",
    "                print(file,\"  -- doesn't exist\")\n",
    "                i+=1\n",
    "                continue\n",
    "            df = df[:120][['x','y']]\n",
    "            z = [[x,y] for x,y in zip(df['x'],df['y'])]\n",
    "            zz = []\n",
    "            for m in z[1:]:\n",
    "                diff = [int(z[0][0]-m[0]),int(z[0][1]-m[1])]\n",
    "                diff = list(np.clip(diff,-8,8))\n",
    "                if diff in z:\n",
    "                    if(diff[0]==0 and diff[1]==0):\n",
    "                        continue\n",
    "                    ind = change.index(diff)\n",
    "                    bits = [0]*80\n",
    "                    bits[ind] = 1\n",
    "                    zz.append(bits)\n",
    "                else:\n",
    "                    o,p = diff\n",
    "                    o = int(o)\n",
    "                    p = int(p)\n",
    "                    if(o%2!=0 and o>0):\n",
    "                        o=o-1\n",
    "                    elif(o%2!=0 and o<0):\n",
    "                        o=o+1\n",
    "                    if(p%2!=0 and p>0):\n",
    "                        p=p-1\n",
    "                    elif(p%2!=0 and p<0):\n",
    "                        p=p+1\n",
    "                    if(o==0 and p==0):\n",
    "                        continue\n",
    "                    ind = change.index(list([o,p]))\n",
    "                    bits = [0]*80\n",
    "                    bits[ind] = 1\n",
    "                    zz.append(bits)\n",
    "            zz = np.array(zz[:80])\n",
    "            vm = [0]*256\n",
    "            c = np.clip(np.array(z[0]),0,511)\n",
    "            px,py = c\n",
    "            px = px//32\n",
    "            py = py//32\n",
    "            vl = py*16+px\n",
    "            #print(z[0],' : ',vl,px,py)\n",
    "            if(math.isnan(vl)):\n",
    "                cd+=1\n",
    "                i+=1\n",
    "                continue\n",
    "            vm[int(vl)%256] = 1\n",
    "            vm2 = np.array(vm)\n",
    "            #print('img.shape: ',img.shape,'zz.shape: ',zz.shape)\n",
    "            if(img.shape==(512,512,3) and zz.shape==(80,80)):\n",
    "                imgs.append(img)\n",
    "                points.append(zz)\n",
    "                first.append(vm2)\n",
    "            cd+=1\n",
    "            i+=1\n",
    "        yield (np.array(imgs),{'out1':np.array(points),'out2':np.array(first)})"
   ]
  },
  {
   "cell_type": "code",
   "execution_count": null,
   "metadata": {
    "collapsed": true,
    "scrolled": true
   },
   "outputs": [],
   "source": [
    "datag=data_generator(imgpath,pointspath,lm=0)\n",
    "validg = data_generator(vimgpath,vpointspath,lm=1)"
   ]
  },
  {
   "cell_type": "code",
   "execution_count": null,
   "metadata": {
    "collapsed": true
   },
   "outputs": [],
   "source": [
    "df = pd.read_csv(pointspath+'i05june05_static_street_boston_p1010764.csv')\n",
    "df.columns"
   ]
  },
  {
   "cell_type": "code",
   "execution_count": null,
   "metadata": {
    "collapsed": true
   },
   "outputs": [],
   "source": [
    "numofimages = len(os.listdir(imgpath))\n",
    "numofimages"
   ]
  },
  {
   "cell_type": "code",
   "execution_count": null,
   "metadata": {
    "collapsed": true,
    "scrolled": false
   },
   "outputs": [],
   "source": [
    "model.fit_generator(datag,steps_per_epoch=numofimages//16,epochs=10,validation_data=validg,validation_steps=1)"
   ]
  },
  {
   "cell_type": "code",
   "execution_count": null,
   "metadata": {
    "collapsed": true
   },
   "outputs": [],
   "source": [
    "model.save('./scanpath_model.h5')"
   ]
  },
  {
   "cell_type": "code",
   "execution_count": null,
   "metadata": {
    "collapsed": true
   },
   "outputs": [],
   "source": [
    "from keras.models import load_model\n",
    "model = load_model('./scanpath_model.h5')"
   ]
  },
  {
   "cell_type": "code",
   "execution_count": null,
   "metadata": {
    "collapsed": true
   },
   "outputs": [],
   "source": [
    "model.summary()"
   ]
  },
  {
   "cell_type": "code",
   "execution_count": null,
   "metadata": {
    "collapsed": true
   },
   "outputs": [],
   "source": [
    "img = plt.imread('./nature.jpg')\n",
    "plt.imshow(transform(img,2))\n",
    "vals=model.predict(transform(img,1),steps=1)"
   ]
  },
  {
   "cell_type": "code",
   "execution_count": null,
   "metadata": {
    "collapsed": true
   },
   "outputs": [],
   "source": []
  },
  {
   "cell_type": "code",
   "execution_count": null,
   "metadata": {
    "collapsed": true
   },
   "outputs": [],
   "source": [
    "vals[0]"
   ]
  },
  {
   "cell_type": "code",
   "execution_count": null,
   "metadata": {
    "collapsed": true
   },
   "outputs": [],
   "source": [
    "ret=beam_search_decoder(vals[0],vals[1])"
   ]
  },
  {
   "cell_type": "code",
   "execution_count": null,
   "metadata": {
    "collapsed": true
   },
   "outputs": [],
   "source": [
    "ret.shape"
   ]
  },
  {
   "cell_type": "code",
   "execution_count": null,
   "metadata": {
    "collapsed": true
   },
   "outputs": [],
   "source": [
    "ret[0][1][:,0]"
   ]
  },
  {
   "cell_type": "code",
   "execution_count": null,
   "metadata": {
    "collapsed": true,
    "scrolled": true
   },
   "outputs": [],
   "source": [
    "imgi4 = plt.imread('./i4.jpeg')\n",
    "df = pd.read_csv('./i4.csv')\n",
    "x = df['x']\n",
    "y = df['y']\n",
    "plt.imshow(imgi4)\n",
    "plt.plot(x,y)"
   ]
  },
  {
   "cell_type": "code",
   "execution_count": null,
   "metadata": {
    "collapsed": true
   },
   "outputs": [],
   "source": [
    "imgi4 = plt.imread('./i4.jpeg')\n",
    "df = pd.read_csv('./i4_2.csv')\n",
    "x = df['x']\n",
    "y = df['y']\n",
    "plt.imshow(imgi4)\n",
    "plt.plot(x,y)"
   ]
  },
  {
   "cell_type": "code",
   "execution_count": null,
   "metadata": {
    "collapsed": true
   },
   "outputs": [],
   "source": [
    "xv = plt.imshow(transform(img,2))\n",
    "xv = plt.plot(np.clip(ret[0][10][:,0],0,512),np.clip(ret[0][10][:,1],0,512))"
   ]
  },
  {
   "cell_type": "code",
   "execution_count": null,
   "metadata": {
    "collapsed": true
   },
   "outputs": [],
   "source": [
    "xv = plt.imshow(transform(img,2))\n",
    "xv = plt.plot(np.clip(ret[0][90][:,0],0,512),np.clip(ret[0][90][:,1],0,512))"
   ]
  },
  {
   "cell_type": "code",
   "execution_count": null,
   "metadata": {
    "collapsed": true
   },
   "outputs": [],
   "source": [
    "xv"
   ]
  },
  {
   "cell_type": "code",
   "execution_count": null,
   "metadata": {
    "collapsed": true
   },
   "outputs": [],
   "source": [
    "for x in s0_pred:\n",
    "    print(x)"
   ]
  },
  {
   "cell_type": "code",
   "execution_count": null,
   "metadata": {
    "collapsed": true
   },
   "outputs": [],
   "source": [
    "numofimages = (os.listdir(pointspath))\n",
    "numofimages\n"
   ]
  },
  {
   "cell_type": "code",
   "execution_count": null,
   "metadata": {
    "collapsed": true
   },
   "outputs": [],
   "source": [
    "def beam_search_decoder(data,first, k=100):\n",
    "    lis = list()\n",
    "    for m in range(data.shape[0]):\n",
    "        sequences = [[list(), 1.0]]\n",
    "        #candidate = list()\n",
    "        # walk over each step in sequence\n",
    "        for row in data[m]:\n",
    "            all_candidates = list()\n",
    "            # expand each current candidate\n",
    "            for i in range(len(sequences)):\n",
    "                seq, score = sequences[i]\n",
    "                for j in range(len(row)):\n",
    "                    candidate = [seq + [j], score * -np.log(row[j])]\n",
    "                    all_candidates.append(candidate)\n",
    "            # order all candidates by score\n",
    "            ordered = sorted(all_candidates, key=lambda tup:tup[1],reverse=True)\n",
    "            # select k best\n",
    "            sequences = ordered[:k]\n",
    "            #print('sequences: ',sequences)\n",
    "        lis.append(sequences)\n",
    "    li = list()\n",
    "    for i in range(len(lis)):\n",
    "        v = []\n",
    "        for x in lis[i]:\n",
    "            v.append(x[0])\n",
    "        li.append(v)\n",
    "    #print('lis: ',li)\n",
    "    ret = decoder(li,first)\n",
    "    return ret"
   ]
  },
  {
   "cell_type": "code",
   "execution_count": null,
   "metadata": {
    "collapsed": true
   },
   "outputs": [],
   "source": [
    "def decoder(seqs,first):\n",
    "    index = np.argmax(first)\n",
    "    ry = index//16\n",
    "    rx = index%16\n",
    "    px = np.random.randint(32*rx+1,32*(rx+1)+1)\n",
    "    py = np.random.randint(32*ry+1,32*(ry+1)+1)\n",
    "    points = []\n",
    "    arr = np.array([[px,py]])\n",
    "    joints = list()\n",
    "    for x in arr:\n",
    "        main = []\n",
    "        for s in range(len(seqs)):\n",
    "            for seq in seqs[s]:\n",
    "                inpoints = []\n",
    "                inpoints.append(x)\n",
    "                for y in seq:\n",
    "                    z = np.array(change[y])\n",
    "                    inpoints.append(inpoints[-1]+z)\n",
    "                points.append(inpoints)\n",
    "        joints.append(points)\n",
    "    vim = np.array(joints[0])\n",
    "    #print('joints: ',vim,vim.shape)\n",
    "        \n",
    "    return np.array(joints)"
   ]
  },
  {
   "cell_type": "code",
   "execution_count": null,
   "metadata": {
    "collapsed": true
   },
   "outputs": [],
   "source": [
    "change = [[0,2],[2,2],[2,0],[2,-2],[0,-2]\n",
    "              ,[-2,-2],[-2,0],[-2,2],[-2,4],[0,4]\n",
    "              ,[2,4],[4,4],[4,2],[4,0],[4,-2],\n",
    "              [4,-4],[2,-4],[0,-4],[-2,-4],[-4,-4],\n",
    "              [-4,-2],[-4,0],[-4,2],[-4,4]]"
   ]
  },
  {
   "cell_type": "code",
   "execution_count": null,
   "metadata": {
    "collapsed": true
   },
   "outputs": [],
   "source": [
    "rx=0\n",
    "px = np.random.randint(32*rx+1,32*(rx+1)+1)\n",
    "px"
   ]
  },
  {
   "cell_type": "code",
   "execution_count": null,
   "metadata": {
    "collapsed": true,
    "scrolled": true
   },
   "outputs": [],
   "source": [
    "l = np.random.randint(-4,4,(24,2))\n",
    "po = [45,32]\n",
    "cx = np.array(po) + np.array(l)\n",
    "print(cx)\n",
    "zz = cx==np.array(po)"
   ]
  },
  {
   "cell_type": "code",
   "execution_count": null,
   "metadata": {
    "collapsed": true
   },
   "outputs": [],
   "source": [
    "diff = [4,4]\n",
    "change.index(diff)"
   ]
  },
  {
   "cell_type": "code",
   "execution_count": null,
   "metadata": {
    "collapsed": true
   },
   "outputs": [],
   "source": [
    "datag=data_generator(vimgpath,vpointspath)"
   ]
  },
  {
   "cell_type": "code",
   "execution_count": null,
   "metadata": {
    "collapsed": true
   },
   "outputs": [],
   "source": []
  },
  {
   "cell_type": "code",
   "execution_count": null,
   "metadata": {
    "collapsed": true
   },
   "outputs": [],
   "source": [
    "len(change)"
   ]
  }
 ],
 "metadata": {
  "kernelspec": {
   "display_name": "Python 3",
   "language": "python",
   "name": "python3"
  },
  "language_info": {
   "codemirror_mode": {
    "name": "ipython",
    "version": 3
   },
   "file_extension": ".py",
   "mimetype": "text/x-python",
   "name": "python",
   "nbconvert_exporter": "python",
   "pygments_lexer": "ipython3",
   "version": "3.7.1"
  }
 },
 "nbformat": 4,
 "nbformat_minor": 2
}
